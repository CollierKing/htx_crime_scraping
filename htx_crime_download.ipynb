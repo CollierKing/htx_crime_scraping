{
 "cells": [
  {
   "cell_type": "markdown",
   "metadata": {},
   "source": [
    "# Crime Activity in Houston"
   ]
  },
  {
   "cell_type": "code",
   "execution_count": null,
   "metadata": {
    "collapsed": true
   },
   "outputs": [],
   "source": []
  },
  {
   "cell_type": "markdown",
   "metadata": {},
   "source": [
    "## Download Monthly Crime Files"
   ]
  },
  {
   "cell_type": "code",
   "execution_count": 54,
   "metadata": {
    "collapsed": true
   },
   "outputs": [],
   "source": [
    "import requests\n",
    "import os\n",
    "os.chdir('/Users/Collier/Dropbox/Skills/Python/Projects/Real_Estate/htx_crime_scraping/months/')"
   ]
  },
  {
   "cell_type": "code",
   "execution_count": 20,
   "metadata": {
    "collapsed": true
   },
   "outputs": [],
   "source": [
    "years = [10,11,12,13,14,15,16,17]\n",
    "months = ['jan','feb','mar','apr','may','jun','jul','aug','sep','oct','nov','dec']\n",
    "\n",
    "dls_base = \"http://www.houstontx.gov/police/cs/xls/\"\n",
    "for year in years:\n",
    "    for mon in months:\n",
    "        dls = dls_base+str(mon)+str(year)+\".xls\"\n",
    "        resp = requests.get(dls)\n",
    "        save_name = str(mon)+\"_\"+str(year)+\".xls\"\n",
    "        with open(save_name, 'wb') as output:\n",
    "            output.write(resp.content)"
   ]
  },
  {
   "cell_type": "markdown",
   "metadata": {
    "collapsed": true
   },
   "source": [
    "## Import Monthly Crime Files"
   ]
  },
  {
   "cell_type": "code",
   "execution_count": 91,
   "metadata": {
    "collapsed": true
   },
   "outputs": [],
   "source": [
    "dir = \"/Users/Collier/Dropbox/Skills/Python/Projects/Real_Estate/htx_crime_scraping/months/\"\n",
    "dir_hcad = \"/Users/Collier/Downloads/Real_acct_owner (3)/\""
   ]
  },
  {
   "cell_type": "code",
   "execution_count": 92,
   "metadata": {
    "collapsed": true
   },
   "outputs": [],
   "source": [
    "import pandas as pd\n",
    "import numpy as np\n",
    "pd.set_option('display.max_columns', 150)\n",
    "pd.set_option('display.max_colwidth', -1)"
   ]
  },
  {
   "cell_type": "code",
   "execution_count": 93,
   "metadata": {
    "collapsed": true
   },
   "outputs": [],
   "source": [
    "import os\n",
    "os.chdir(dir)\n",
    "files = [f for f in os.listdir('.') if os.path.isfile(f)]\n",
    "files = [f for f in files if '.xls' in f]"
   ]
  },
  {
   "cell_type": "code",
   "execution_count": 94,
   "metadata": {},
   "outputs": [
    {
     "name": "stdout",
     "output_type": "stream",
     "text": [
      "WARNING *** file size (2752234) not 512 + multiple of sector size (512)\n",
      "WARNING *** OLE2 inconsistency: SSCS size is 0 but SSAT size is non-zero\n"
     ]
    }
   ],
   "source": [
    "for idx,file in enumerate(files):\n",
    "#     print(idx)\n",
    "    dat = pd.read_excel(dir+file)\n",
    "    if idx == 0:\n",
    "        datAll = dat\n",
    "    datAll = pd.concat([datAll,dat])"
   ]
  },
  {
   "cell_type": "code",
   "execution_count": 95,
   "metadata": {},
   "outputs": [
    {
     "data": {
      "text/plain": [
       "(959476, 18)"
      ]
     },
     "execution_count": 95,
     "metadata": {},
     "output_type": "execute_result"
    }
   ],
   "source": [
    "datAll.shape"
   ]
  },
  {
   "cell_type": "code",
   "execution_count": 96,
   "metadata": {
    "collapsed": true
   },
   "outputs": [],
   "source": [
    "datAll['Offense_count'] = np.where(~np.isnan(datAll['# Of']),datAll['# Of'],np.nan)\n",
    "datAll['Offense_count'] = np.where(~np.isnan(datAll['# Of Offenses']),datAll['# Of Offenses'],datAll['Offense_count'])\n",
    "datAll['Offense_count'] = np.where(~np.isnan(datAll['# Offenses']),datAll['# Offenses'],datAll['Offense_count'])\n",
    "datAll['Offense_count'] = np.where(~np.isnan(datAll['# offenses']),datAll['# offenses'],datAll['Offense_count'])\n",
    "datAll['Offense_count'] = np.where(~np.isnan(datAll['Offenses']),datAll['Offenses'],datAll['Offense_count'])"
   ]
  },
  {
   "cell_type": "code",
   "execution_count": 97,
   "metadata": {
    "collapsed": true
   },
   "outputs": [],
   "source": [
    "datAll['Street_name'] = np.where(~pd.isnull(datAll['Street Name']),datAll['Street Name'],np.nan)\n",
    "datAll['Street_name'] = np.where(~pd.isnull(datAll['StreetName']),datAll['StreetName'],datAll['Street_name'])"
   ]
  },
  {
   "cell_type": "code",
   "execution_count": 98,
   "metadata": {
    "collapsed": true
   },
   "outputs": [],
   "source": [
    "datAll['Block_range'] = np.where(~pd.isnull(datAll['Block Range']),datAll['Block Range'],np.nan)\n",
    "datAll['Block_range'] = np.where(~pd.isnull(datAll['BlockRange']),datAll['BlockRange'],datAll['Block_range'])"
   ]
  },
  {
   "cell_type": "markdown",
   "metadata": {},
   "source": [
    "## Download HCAD Dataset"
   ]
  },
  {
   "cell_type": "markdown",
   "metadata": {},
   "source": [
    "While the monthly crime data from HPD is very detailed, unfortunately it does not contain zip code.  The aggregated geographical area unit is instead beat number.  While this is useful, we are more interested in Zip code.  For that reason we will import another dataset, the 20__ HCAD property value dataset."
   ]
  },
  {
   "cell_type": "markdown",
   "metadata": {},
   "source": [
    "## Import HCAD Dataset"
   ]
  },
  {
   "cell_type": "code",
   "execution_count": 99,
   "metadata": {},
   "outputs": [
    {
     "name": "stderr",
     "output_type": "stream",
     "text": [
      "/Users/Collier/miniconda3/lib/python3.5/site-packages/IPython/core/interactiveshell.py:2717: DtypeWarning: Columns (19,21,33) have mixed types. Specify dtype option on import or set low_memory=False.\n",
      "  interactivity=interactivity, compiler=compiler, result=result)\n"
     ]
    }
   ],
   "source": [
    "dat_hcad = pd.read_table(dir_hcad+\"real_acct.txt\", sep='\\t', encoding = \"ISO-8859-1\")"
   ]
  },
  {
   "cell_type": "markdown",
   "metadata": {},
   "source": [
    "### Add headers"
   ]
  },
  {
   "cell_type": "markdown",
   "metadata": {},
   "source": [
    "We need to bring in the headers for this dataset, which are saved in a different file."
   ]
  },
  {
   "cell_type": "markdown",
   "metadata": {},
   "source": [
    "### Create Lookup Keys"
   ]
  },
  {
   "cell_type": "markdown",
   "metadata": {},
   "source": [
    "To bring zip code back to our crime dataset, we need to create a lookup key on the relative address.  The crime dataset gives us a 'block range' where the crime occurred.  Concatenating this with the street number gives us the block where the crime occurred.  We will create a similarly formatted 'blk_range' column in our HCAD dataset.  This will then be used to bring the zip code from the HCAD dataset into our crime dataset."
   ]
  },
  {
   "cell_type": "code",
   "execution_count": 100,
   "metadata": {
    "collapsed": true
   },
   "outputs": [],
   "source": [
    "# create lookup key in HCAD dataset\n",
    "dat_hcad['blk_lower'] = dat_hcad['0'] - dat_hcad['0'] % 100\n",
    "dat_hcad['blk_upper'] = dat_hcad['blk_lower'] + 99\n",
    "dat_hcad['blk_range'] = dat_hcad['blk_lower'].map(str)+'-'+dat_hcad['blk_upper'].map(str)+' '+dat_hcad['COMMERCE'].map(str)"
   ]
  },
  {
   "cell_type": "code",
   "execution_count": 101,
   "metadata": {
    "collapsed": true
   },
   "outputs": [],
   "source": [
    "# create lookup key in crime dataset\n",
    "datAll['blk_rng'] = datAll['Block_range'].map(str)+' '+datAll['Street_name'].map(str)"
   ]
  },
  {
   "cell_type": "code",
   "execution_count": 102,
   "metadata": {},
   "outputs": [
    {
     "data": {
      "text/plain": [
       "(1441705, 2)"
      ]
     },
     "execution_count": 102,
     "metadata": {},
     "output_type": "execute_result"
    }
   ],
   "source": [
    "#create df from HCAD dataset with just addresses and zips\n",
    "dat_hcad_1 = dat_hcad['blk_range']\n",
    "dat_hcad_2 = dat_hcad['77002']\n",
    "dat_hcad_zip = pd.concat([dat_hcad_1,dat_hcad_2],axis=1)\n",
    "dat_hcad_zip.shape"
   ]
  },
  {
   "cell_type": "code",
   "execution_count": 103,
   "metadata": {},
   "outputs": [
    {
     "data": {
      "text/plain": [
       "(141906, 2)"
      ]
     },
     "execution_count": 103,
     "metadata": {},
     "output_type": "execute_result"
    }
   ],
   "source": [
    "dat_hcad_zip.drop_duplicates(subset='blk_range',keep=\"last\",inplace=True)\n",
    "dat_hcad_zip.columns = ['blk_range','zip']\n",
    "dat_hcad_zip.shape"
   ]
  },
  {
   "cell_type": "markdown",
   "metadata": {},
   "source": [
    "### Lookup Zip Code"
   ]
  },
  {
   "cell_type": "markdown",
   "metadata": {},
   "source": [
    "We now lookup the zip code from the HCAD dataset via the block range keys we created in both datasets.  Unfortunately we did have a slight loss in data, about 14%.  This is because the HCAD dataset did not have addresses on the blocks where the crimes took place."
   ]
  },
  {
   "cell_type": "code",
   "execution_count": 104,
   "metadata": {
    "collapsed": true
   },
   "outputs": [],
   "source": [
    "datAll['zip'] = datAll.blk_rng.map(dat_hcad_zip.set_index('blk_range').zip)"
   ]
  },
  {
   "cell_type": "code",
   "execution_count": 105,
   "metadata": {},
   "outputs": [
    {
     "data": {
      "text/plain": [
       "0.12574571953858146"
      ]
     },
     "execution_count": 105,
     "metadata": {},
     "output_type": "execute_result"
    }
   ],
   "source": [
    "datAll['zip'].value_counts(dropna=False)[0]/len(datAll)"
   ]
  },
  {
   "cell_type": "code",
   "execution_count": 106,
   "metadata": {
    "collapsed": true
   },
   "outputs": [],
   "source": [
    "dat_missing_zip = datAll[pd.isnull(datAll['zip'])]"
   ]
  },
  {
   "cell_type": "code",
   "execution_count": 108,
   "metadata": {},
   "outputs": [
    {
     "data": {
      "text/plain": [
       "(120650, 23)"
      ]
     },
     "execution_count": 108,
     "metadata": {},
     "output_type": "execute_result"
    }
   ],
   "source": [
    "dat_missing_zip.shape"
   ]
  },
  {
   "cell_type": "markdown",
   "metadata": {},
   "source": [
    "## Data Cleaning"
   ]
  },
  {
   "cell_type": "markdown",
   "metadata": {},
   "source": [
    "Below we will make some changes to the data to make it more usable."
   ]
  },
  {
   "cell_type": "markdown",
   "metadata": {},
   "source": [
    "### Fixing Dates"
   ]
  },
  {
   "cell_type": "markdown",
   "metadata": {},
   "source": [
    "Lets fix the dates so that we can do some time series analysis."
   ]
  },
  {
   "cell_type": "code",
   "execution_count": 109,
   "metadata": {
    "collapsed": true
   },
   "outputs": [],
   "source": [
    "from datetime import datetime as dt\n",
    "datAll['Date'] = pd.to_datetime(datAll['Date'])\n",
    "datAll = datAll[(datAll['Date']>='2010-01-01') & \n",
    "                (datAll['Date']<='2018-01-01')]"
   ]
  },
  {
   "cell_type": "code",
   "execution_count": 110,
   "metadata": {
    "collapsed": true
   },
   "outputs": [],
   "source": [
    "datAll['year'] = datAll['Date'].map(lambda x: x.year)\n",
    "datAll['month'] = datAll['Date'].map(lambda x: x.month)\n",
    "# datAll['month'] = datAll['Date'].map(lambda x: x.)\n",
    "# datAll['Year-Mon'] = datAll['Date'].dt.strftime('%b-%Y')"
   ]
  },
  {
   "cell_type": "markdown",
   "metadata": {},
   "source": [
    "We will also create a half-year column.  This is because the data was gathered in July 2017, which is only have a year. Instead of discarding it and making an annual grouping look artificially low for 2017, we will be able to group by half year intervals"
   ]
  },
  {
   "cell_type": "code",
   "execution_count": 111,
   "metadata": {
    "collapsed": true
   },
   "outputs": [],
   "source": [
    "month_bins = [0,6,12]\n",
    "datAll['month_rng'] = pd.cut(datAll['month'],month_bins)\n",
    "datAll['half_year'] = np.where(datAll['month_rng']==\"(0, 6]\",\"first\",\"second\")\n",
    "datAll['half_year'] = datAll['half_year'].astype(str)"
   ]
  },
  {
   "cell_type": "code",
   "execution_count": 112,
   "metadata": {},
   "outputs": [
    {
     "data": {
      "text/plain": [
       "first     504103\n",
       "second    452692\n",
       "Name: half_year, dtype: int64"
      ]
     },
     "execution_count": 112,
     "metadata": {},
     "output_type": "execute_result"
    }
   ],
   "source": [
    "datAll['half_year'].value_counts(dropna=False)"
   ]
  },
  {
   "cell_type": "code",
   "execution_count": 118,
   "metadata": {},
   "outputs": [
    {
     "data": {
      "text/plain": [
       "(836382, 27)"
      ]
     },
     "execution_count": 118,
     "metadata": {},
     "output_type": "execute_result"
    }
   ],
   "source": [
    "datAll.shape"
   ]
  },
  {
   "cell_type": "code",
   "execution_count": 114,
   "metadata": {
    "collapsed": true
   },
   "outputs": [],
   "source": [
    "datAll = datAll[pd.notnull(datAll['zip'])]"
   ]
  },
  {
   "cell_type": "code",
   "execution_count": 124,
   "metadata": {
    "collapsed": true
   },
   "outputs": [],
   "source": [
    "datAll['zip'] = datAll['zip'].str.replace(' ','')"
   ]
  },
  {
   "cell_type": "code",
   "execution_count": 134,
   "metadata": {},
   "outputs": [],
   "source": [
    "datAll['zip'] = datAll['zip'].apply(pd.to_numeric, errors='coerce')"
   ]
  },
  {
   "cell_type": "markdown",
   "metadata": {},
   "source": [
    "### Violent vs Non-Violent"
   ]
  },
  {
   "cell_type": "markdown",
   "metadata": {},
   "source": [
    "Lets also divide the crime types into 'violent' and 'non-violent'"
   ]
  },
  {
   "cell_type": "code",
   "execution_count": 136,
   "metadata": {
    "collapsed": true,
    "scrolled": true
   },
   "outputs": [],
   "source": [
    "# clean up whitespace\n",
    "datAll['Offense Type'] = datAll['Offense Type'].str.strip()\n",
    "# clean up spelling\n",
    "datAll['Offense Type'] = np.where(datAll['Offense Type']==\"AutoTheft\",'Auto Theft',datAll['Offense Type'])"
   ]
  },
  {
   "cell_type": "code",
   "execution_count": 137,
   "metadata": {
    "collapsed": true
   },
   "outputs": [],
   "source": [
    "datAll['violence_type'] = np.where(datAll['Offense Type'].isin([\"Theft\",\n",
    "                                                                \"Burglary\",\n",
    "                                                                \"Auto Theft\"]),\"non-violent\",np.nan)\n",
    "datAll['violence_type'] = np.where(datAll['Offense Type'].isin([\"Aggravated Assault\",\n",
    "                                                                \"Robbery\",\n",
    "                                                                \"Rape\",\n",
    "                                                                \"Murder\"]),\"violent\",datAll['violence_type'])"
   ]
  },
  {
   "cell_type": "markdown",
   "metadata": {},
   "source": [
    "## Aggregation & Visualization"
   ]
  },
  {
   "cell_type": "markdown",
   "metadata": {},
   "source": [
    "Lets create some data aggregations on the crime data which we can then visualize."
   ]
  },
  {
   "cell_type": "markdown",
   "metadata": {},
   "source": [
    "### Crimes by Month & Year"
   ]
  },
  {
   "cell_type": "code",
   "execution_count": 138,
   "metadata": {
    "collapsed": true
   },
   "outputs": [],
   "source": [
    "crimes_by_yr_month = pd.DataFrame(datAll.groupby([datAll['year'],datAll['month']])\n",
    "#                                   .size())\n",
    "                               .agg({'Offense_count':'sum'}))"
   ]
  },
  {
   "cell_type": "code",
   "execution_count": 139,
   "metadata": {
    "collapsed": true
   },
   "outputs": [],
   "source": [
    "crimes_by_yr_month.reset_index(inplace=True)\n",
    "crimes_by_yr_month.columns = [\"year\",\"month\",\"crime_count\"]"
   ]
  },
  {
   "cell_type": "code",
   "execution_count": 140,
   "metadata": {},
   "outputs": [
    {
     "data": {
      "text/html": [
       "<div>\n",
       "<table border=\"1\" class=\"dataframe\">\n",
       "  <thead>\n",
       "    <tr style=\"text-align: right;\">\n",
       "      <th></th>\n",
       "      <th>year</th>\n",
       "      <th>month</th>\n",
       "      <th>crime_count</th>\n",
       "    </tr>\n",
       "  </thead>\n",
       "  <tbody>\n",
       "    <tr>\n",
       "      <th>0</th>\n",
       "      <td>2010</td>\n",
       "      <td>1</td>\n",
       "      <td>10029.0</td>\n",
       "    </tr>\n",
       "    <tr>\n",
       "      <th>1</th>\n",
       "      <td>2010</td>\n",
       "      <td>2</td>\n",
       "      <td>8671.0</td>\n",
       "    </tr>\n",
       "    <tr>\n",
       "      <th>2</th>\n",
       "      <td>2010</td>\n",
       "      <td>3</td>\n",
       "      <td>10710.0</td>\n",
       "    </tr>\n",
       "    <tr>\n",
       "      <th>3</th>\n",
       "      <td>2010</td>\n",
       "      <td>4</td>\n",
       "      <td>20353.0</td>\n",
       "    </tr>\n",
       "    <tr>\n",
       "      <th>4</th>\n",
       "      <td>2010</td>\n",
       "      <td>5</td>\n",
       "      <td>11328.0</td>\n",
       "    </tr>\n",
       "  </tbody>\n",
       "</table>\n",
       "</div>"
      ],
      "text/plain": [
       "   year  month  crime_count\n",
       "0  2010  1      10029.0    \n",
       "1  2010  2      8671.0     \n",
       "2  2010  3      10710.0    \n",
       "3  2010  4      20353.0    \n",
       "4  2010  5      11328.0    "
      ]
     },
     "execution_count": 140,
     "metadata": {},
     "output_type": "execute_result"
    }
   ],
   "source": [
    "crimes_by_yr_month.head()"
   ]
  },
  {
   "cell_type": "code",
   "execution_count": 141,
   "metadata": {},
   "outputs": [
    {
     "data": {
      "text/plain": [
       "[<matplotlib.lines.Line2D at 0x1177a5cf8>]"
      ]
     },
     "execution_count": 141,
     "metadata": {},
     "output_type": "execute_result"
    }
   ],
   "source": [
    "import matplotlib.pyplot as plt\n",
    "fig = plt.figure(figsize=(11,8))\n",
    "ax1 = fig.add_subplot(111)\n",
    "\n",
    "ax1.plot(crimes_by_yr_month['year'], crimes_by_yr_month['crime_count'], label=1)"
   ]
  },
  {
   "cell_type": "code",
   "execution_count": 142,
   "metadata": {},
   "outputs": [
    {
     "data": {
      "image/png": "[encoded data removed]",
      "text/plain": [
       "<matplotlib.figure.Figure at 0x1825c9ba8>"
      ]
     },
     "metadata": {},
     "output_type": "display_data"
    }
   ],
   "source": [
    "plt.show()"
   ]
  },
  {
   "cell_type": "code",
   "execution_count": null,
   "metadata": {
    "collapsed": true
   },
   "outputs": [],
   "source": []
  },
  {
   "cell_type": "markdown",
   "metadata": {},
   "source": [
    "### Crimes by Type"
   ]
  },
  {
   "cell_type": "code",
   "execution_count": 143,
   "metadata": {
    "collapsed": true
   },
   "outputs": [],
   "source": [
    "crimes_by_type = pd.DataFrame(datAll.groupby(datAll['Offense Type'])\n",
    "                              .agg({'Offense_count':'sum'}))"
   ]
  },
  {
   "cell_type": "code",
   "execution_count": 144,
   "metadata": {
    "collapsed": true
   },
   "outputs": [],
   "source": [
    "crimes_by_type.reset_index(inplace=True)"
   ]
  },
  {
   "cell_type": "code",
   "execution_count": 145,
   "metadata": {},
   "outputs": [
    {
     "data": {
      "text/html": [
       "<div>\n",
       "<table border=\"1\" class=\"dataframe\">\n",
       "  <thead>\n",
       "    <tr style=\"text-align: right;\">\n",
       "      <th></th>\n",
       "      <th>Offense Type</th>\n",
       "      <th>Offense_count</th>\n",
       "    </tr>\n",
       "  </thead>\n",
       "  <tbody>\n",
       "    <tr>\n",
       "      <th>6</th>\n",
       "      <td>Theft</td>\n",
       "      <td>454330.0</td>\n",
       "    </tr>\n",
       "    <tr>\n",
       "      <th>2</th>\n",
       "      <td>Burglary</td>\n",
       "      <td>160265.0</td>\n",
       "    </tr>\n",
       "    <tr>\n",
       "      <th>1</th>\n",
       "      <td>Auto Theft</td>\n",
       "      <td>86526.0</td>\n",
       "    </tr>\n",
       "    <tr>\n",
       "      <th>0</th>\n",
       "      <td>Aggravated Assault</td>\n",
       "      <td>76458.0</td>\n",
       "    </tr>\n",
       "    <tr>\n",
       "      <th>5</th>\n",
       "      <td>Robbery</td>\n",
       "      <td>64343.0</td>\n",
       "    </tr>\n",
       "    <tr>\n",
       "      <th>4</th>\n",
       "      <td>Rape</td>\n",
       "      <td>5377.0</td>\n",
       "    </tr>\n",
       "    <tr>\n",
       "      <th>3</th>\n",
       "      <td>Murder</td>\n",
       "      <td>1612.0</td>\n",
       "    </tr>\n",
       "  </tbody>\n",
       "</table>\n",
       "</div>"
      ],
      "text/plain": [
       "         Offense Type  Offense_count\n",
       "6  Theft               454330.0     \n",
       "2  Burglary            160265.0     \n",
       "1  Auto Theft          86526.0      \n",
       "0  Aggravated Assault  76458.0      \n",
       "5  Robbery             64343.0      \n",
       "4  Rape                5377.0       \n",
       "3  Murder              1612.0       "
      ]
     },
     "execution_count": 145,
     "metadata": {},
     "output_type": "execute_result"
    }
   ],
   "source": [
    "crimes_by_type.sort_values(\"Offense_count\",ascending=False)"
   ]
  },
  {
   "cell_type": "markdown",
   "metadata": {},
   "source": [
    "### Crimes by Month & Type"
   ]
  },
  {
   "cell_type": "code",
   "execution_count": 146,
   "metadata": {
    "collapsed": true
   },
   "outputs": [],
   "source": [
    "crimes_by_yr_month_type = pd.DataFrame(datAll.groupby([\n",
    "    datAll['year'],datAll['month'],datAll['Offense Type']]).agg({'Offense_count':'sum'}))"
   ]
  },
  {
   "cell_type": "code",
   "execution_count": 147,
   "metadata": {
    "collapsed": true
   },
   "outputs": [],
   "source": [
    "crimes_by_yr_month_type.reset_index(inplace=True)"
   ]
  },
  {
   "cell_type": "code",
   "execution_count": 148,
   "metadata": {
    "collapsed": true
   },
   "outputs": [],
   "source": [
    "# crimes_by_yr_month_type"
   ]
  },
  {
   "cell_type": "markdown",
   "metadata": {},
   "source": [
    "### Crimes by Zip, Month & Type"
   ]
  },
  {
   "cell_type": "code",
   "execution_count": 149,
   "metadata": {
    "collapsed": true
   },
   "outputs": [],
   "source": [
    "crimes_by_yr_month_zip_type = pd.DataFrame(datAll.groupby([\n",
    "    datAll['year'],datAll['month'],datAll['zip'],datAll['Offense Type']]).agg({'Offense_count':'sum'}))"
   ]
  },
  {
   "cell_type": "code",
   "execution_count": 150,
   "metadata": {
    "collapsed": true
   },
   "outputs": [],
   "source": [
    "# crimes_by_yr_month_zip_type"
   ]
  },
  {
   "cell_type": "markdown",
   "metadata": {},
   "source": [
    "### Rolling Average Crimes by Zip"
   ]
  },
  {
   "cell_type": "markdown",
   "metadata": {},
   "source": [
    "Below, we take a 3 year (6 half-year periods) rolling average of violent & non-violent crimes by zip code."
   ]
  },
  {
   "cell_type": "code",
   "execution_count": 151,
   "metadata": {
    "collapsed": true
   },
   "outputs": [],
   "source": [
    "# (datAll.groupby([datAll['year'],datAll['zip'],datAll['violence_type']])['Offense_count']\n",
    "#      .fillna(0)\n",
    "#      .rolling(3)\n",
    "#      .mean())"
   ]
  },
  {
   "cell_type": "code",
   "execution_count": 152,
   "metadata": {
    "collapsed": true
   },
   "outputs": [],
   "source": [
    "# (datAll.groupby([datAll['year']])['Offense_count']\n",
    "#      .fillna(0)\n",
    "#      .rolling(3)\n",
    "#      .mean())"
   ]
  },
  {
   "cell_type": "code",
   "execution_count": 153,
   "metadata": {
    "collapsed": true
   },
   "outputs": [],
   "source": [
    "# temp = (df.groupby('fruit')['amount']\n",
    "#     .apply(lambda x: x.reindex(dates)  # fill in the missing dates for each group)\n",
    "#                       .fillna(0)   # fill each missing group with 0\n",
    "#                       .rolling(3)\n",
    "#                       .sum()) # do a rolling sum\n",
    "#     .reset_index()\n",
    "#     .rename(columns={'amount': 'sum_of_3_days', \n",
    "#                      'level_1': 'date'}))"
   ]
  },
  {
   "cell_type": "code",
   "execution_count": 154,
   "metadata": {
    "collapsed": true
   },
   "outputs": [],
   "source": [
    "pivoted_df = pd.pivot_table(datAll, \n",
    "                            index=['zip','year','half_year'], \n",
    "                            columns='violence_type', \n",
    "                            values='Offense_count',\n",
    "                            aggfunc=\"sum\")"
   ]
  },
  {
   "cell_type": "code",
   "execution_count": 161,
   "metadata": {},
   "outputs": [],
   "source": [
    "# pivoted_df.reset_index()"
   ]
  },
  {
   "cell_type": "code",
   "execution_count": 162,
   "metadata": {
    "collapsed": true
   },
   "outputs": [],
   "source": [
    "average_crimes = pd.DataFrame(pivoted_df.rolling(window=6).mean().stack())\n",
    "average_crimes.reset_index(inplace=True)"
   ]
  },
  {
   "cell_type": "markdown",
   "metadata": {},
   "source": [
    "Finally, lets subset out for the first half of 2017 only."
   ]
  },
  {
   "cell_type": "code",
   "execution_count": 163,
   "metadata": {
    "collapsed": true
   },
   "outputs": [],
   "source": [
    "average_crimes_current = average_crimes[(average_crimes['year']==2017) &\n",
    "                                               (average_crimes['half_year']==\"first\")]"
   ]
  },
  {
   "cell_type": "code",
   "execution_count": 164,
   "metadata": {},
   "outputs": [
    {
     "data": {
      "text/html": [
       "<div>\n",
       "<table border=\"1\" class=\"dataframe\">\n",
       "  <thead>\n",
       "    <tr style=\"text-align: right;\">\n",
       "      <th></th>\n",
       "      <th>zip</th>\n",
       "      <th>year</th>\n",
       "      <th>half_year</th>\n",
       "      <th>violence_type</th>\n",
       "      <th>0</th>\n",
       "    </tr>\n",
       "  </thead>\n",
       "  <tbody>\n",
       "    <tr>\n",
       "      <th>18</th>\n",
       "      <td>77002.0</td>\n",
       "      <td>2017</td>\n",
       "      <td>first</td>\n",
       "      <td>non-violent</td>\n",
       "      <td>460.500000</td>\n",
       "    </tr>\n",
       "    <tr>\n",
       "      <th>19</th>\n",
       "      <td>77002.0</td>\n",
       "      <td>2017</td>\n",
       "      <td>first</td>\n",
       "      <td>violent</td>\n",
       "      <td>81.000000</td>\n",
       "    </tr>\n",
       "    <tr>\n",
       "      <th>48</th>\n",
       "      <td>77003.0</td>\n",
       "      <td>2017</td>\n",
       "      <td>first</td>\n",
       "      <td>non-violent</td>\n",
       "      <td>309.833333</td>\n",
       "    </tr>\n",
       "    <tr>\n",
       "      <th>49</th>\n",
       "      <td>77003.0</td>\n",
       "      <td>2017</td>\n",
       "      <td>first</td>\n",
       "      <td>violent</td>\n",
       "      <td>48.333333</td>\n",
       "    </tr>\n",
       "    <tr>\n",
       "      <th>78</th>\n",
       "      <td>77004.0</td>\n",
       "      <td>2017</td>\n",
       "      <td>first</td>\n",
       "      <td>non-violent</td>\n",
       "      <td>851.666667</td>\n",
       "    </tr>\n",
       "  </tbody>\n",
       "</table>\n",
       "</div>"
      ],
      "text/plain": [
       "        zip  year half_year violence_type           0\n",
       "18  77002.0  2017  first     non-violent   460.500000\n",
       "19  77002.0  2017  first     violent       81.000000 \n",
       "48  77003.0  2017  first     non-violent   309.833333\n",
       "49  77003.0  2017  first     violent       48.333333 \n",
       "78  77004.0  2017  first     non-violent   851.666667"
      ]
     },
     "execution_count": 164,
     "metadata": {},
     "output_type": "execute_result"
    }
   ],
   "source": [
    "average_crimes_current.head()"
   ]
  },
  {
   "cell_type": "code",
   "execution_count": 168,
   "metadata": {},
   "outputs": [],
   "source": [
    "# average_crimes_current.groupby('zip').size().sort_values(ascending=False)"
   ]
  },
  {
   "cell_type": "markdown",
   "metadata": {},
   "source": [
    "#### Export"
   ]
  },
  {
   "cell_type": "markdown",
   "metadata": {},
   "source": [
    "Now we will export this dataset as it will be used as part of another analysis.   Link>>>>>>"
   ]
  },
  {
   "cell_type": "code",
   "execution_count": 169,
   "metadata": {
    "collapsed": true
   },
   "outputs": [],
   "source": [
    "dir = '/Users/Collier/Dropbox/Skills/\\\n",
    "Python/Projects/Real_Estate/htx_crime_scraping/'"
   ]
  },
  {
   "cell_type": "code",
   "execution_count": 170,
   "metadata": {
    "collapsed": true
   },
   "outputs": [],
   "source": [
    "os.chdir(dir)\n",
    "average_crimes_current.to_csv(\"rolling_crime_avg_by_zip.csv\")"
   ]
  },
  {
   "cell_type": "code",
   "execution_count": null,
   "metadata": {
    "collapsed": true
   },
   "outputs": [],
   "source": []
  }
 ],
 "metadata": {
  "kernelspec": {
   "display_name": "Python [default]",
   "language": "python",
   "name": "python3"
  },
  "language_info": {
   "codemirror_mode": {
    "name": "ipython",
    "version": 3
   },
   "file_extension": ".py",
   "mimetype": "text/x-python",
   "name": "python",
   "nbconvert_exporter": "python",
   "pygments_lexer": "ipython3",
   "version": "3.5.3"
  },
  "toc": {
   "colors": {
    "hover_highlight": "#DAA520",
    "navigate_num": "#000000",
    "navigate_text": "#333333",
    "running_highlight": "#FF0000",
    "selected_highlight": "#FFD700",
    "sidebar_border": "#EEEEEE",
    "wrapper_background": "#FFFFFF"
   },
   "moveMenuLeft": true,
   "nav_menu": {
    "height": "12px",
    "width": "252px"
   },
   "navigate_menu": true,
   "number_sections": true,
   "sideBar": true,
   "threshold": 4,
   "toc_cell": false,
   "toc_section_display": "block",
   "toc_window_display": true,
   "widenNotebook": false
  }
 },
 "nbformat": 4,
 "nbformat_minor": 2
}
