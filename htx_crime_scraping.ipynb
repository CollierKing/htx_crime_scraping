{
 "cells": [
  {
   "cell_type": "code",
   "execution_count": 4,
   "metadata": {},
   "outputs": [],
   "source": [
    "from bs4 import BeautifulSoup, NavigableString, Tag\n",
    "import requests\n",
    "import lxml\n",
    "import pandas as pd\n",
    "import numpy as np\n",
    "import re\n",
    "import time\n",
    "import os\n",
    "import csv\n",
    "import datetime as dt\n",
    "pd.set_option('display.max_columns', 150)\n",
    "pd.set_option('display.max_colwidth', -1)"
   ]
  },
  {
   "cell_type": "markdown",
   "metadata": {},
   "source": [
    "### Read in list of HTX Beats"
   ]
  },
  {
   "cell_type": "code",
   "execution_count": 10,
   "metadata": {},
   "outputs": [],
   "source": [
    "# https://cohgis-mycity.opendata.arcgis.com/datasets/fb3bb02ec56c4bb4b9d0cf3b8b3e5545_4?geometry=-97.322%2C29.405%2C-94.029%2C30.239\n",
    "# dir = \"/Users/Collier/Dropbox/Skills/Python/Projects/Real_Estate/HAR_scraping/\"\n",
    "dir = \"/home/collier/Dropbox/Skills/Python/Projects/Real_Estate/HAR_scraping/\"\n",
    "beats = pd.read_csv(dir+\"Houston_Police_Beats.csv\")"
   ]
  },
  {
   "cell_type": "markdown",
   "metadata": {},
   "source": [
    "#### Define list of Years and Months for search"
   ]
  },
  {
   "cell_type": "code",
   "execution_count": 11,
   "metadata": {
    "collapsed": true
   },
   "outputs": [],
   "source": [
    "years = [2010,2011,2012,2013,2014,2015,2016,2017]\n",
    "months = ['jan','feb','mar','apr','may','jun','jul','aug','sep','oct','nov','dec']"
   ]
  },
  {
   "cell_type": "markdown",
   "metadata": {},
   "source": [
    "#### Create Base DF to store results"
   ]
  },
  {
   "cell_type": "code",
   "execution_count": 12,
   "metadata": {
    "collapsed": true
   },
   "outputs": [],
   "source": [
    "dat_all_beats = pd.DataFrame(columns=['Date',\n",
    "                       \"Offense\",\"Beat\",\"# Offense\",\n",
    "                        \"Blk Rng\",\"Street\"])"
   ]
  },
  {
   "cell_type": "markdown",
   "metadata": {},
   "source": [
    "### Begin Scraping Iteration"
   ]
  },
  {
   "cell_type": "code",
   "execution_count": 15,
   "metadata": {},
   "outputs": [
    {
     "data": {
      "text/plain": [
       "116"
      ]
     },
     "execution_count": 15,
     "metadata": {},
     "output_type": "execute_result"
    }
   ],
   "source": [
    "len(beats)"
   ]
  },
  {
   "cell_type": "code",
   "execution_count": 17,
   "metadata": {},
   "outputs": [
    {
     "ename": "IndexError",
     "evalue": "list index out of range",
     "output_type": "error",
     "traceback": [
      "\u001b[0;31m---------------------------------------------------------------------------\u001b[0m",
      "\u001b[0;31mIndexError\u001b[0m                                Traceback (most recent call last)",
      "\u001b[0;32m<ipython-input-17-2921f21da71b>\u001b[0m in \u001b[0;36m<module>\u001b[0;34m()\u001b[0m\n\u001b[1;32m     43\u001b[0m                        \u001b[0;34m\"Offense\"\u001b[0m\u001b[0;34m:\u001b[0m\u001b[0;34m[\u001b[0m\u001b[0mwords\u001b[0m\u001b[0;34m[\u001b[0m\u001b[0;36m2\u001b[0m\u001b[0;34m]\u001b[0m\u001b[0;34m]\u001b[0m\u001b[0;34m,\u001b[0m\u001b[0;34m\u001b[0m\u001b[0m\n\u001b[1;32m     44\u001b[0m                        \u001b[0;34m\"Beat\"\u001b[0m\u001b[0;34m:\u001b[0m\u001b[0;34m[\u001b[0m\u001b[0mwords\u001b[0m\u001b[0;34m[\u001b[0m\u001b[0;36m3\u001b[0m\u001b[0;34m]\u001b[0m\u001b[0;34m]\u001b[0m\u001b[0;34m,\u001b[0m\u001b[0;34m\u001b[0m\u001b[0m\n\u001b[0;32m---> 45\u001b[0;31m                        \u001b[0;34m\"# Offense\"\u001b[0m\u001b[0;34m:\u001b[0m\u001b[0;34m[\u001b[0m\u001b[0mwords\u001b[0m\u001b[0;34m[\u001b[0m\u001b[0;36m9\u001b[0m\u001b[0;34m]\u001b[0m\u001b[0;34m]\u001b[0m\u001b[0;34m,\u001b[0m\u001b[0;34m\u001b[0m\u001b[0m\n\u001b[0m\u001b[1;32m     46\u001b[0m                         \u001b[0;34m\"Blk Rng\"\u001b[0m\u001b[0;34m:\u001b[0m\u001b[0;34m[\u001b[0m\u001b[0mwords\u001b[0m\u001b[0;34m[\u001b[0m\u001b[0;36m5\u001b[0m\u001b[0;34m]\u001b[0m\u001b[0;34m]\u001b[0m\u001b[0;34m,\u001b[0m\u001b[0;34m\u001b[0m\u001b[0m\n\u001b[1;32m     47\u001b[0m                       \"Street\":[words[6]]})\n",
      "\u001b[0;31mIndexError\u001b[0m: list index out of range"
     ]
    }
   ],
   "source": [
    "# loop through beats list\n",
    "HEADERS = {'User-Agent':'Mozilla/5.0'}\n",
    "for idx,row in beats.iterrows():\n",
    "    # loop through years\n",
    "    dat_all_years = pd.DataFrame(columns=['Date',\n",
    "                       \"Offense\",\n",
    "                       \"Beat\",\n",
    "                       \"# Offense\",\n",
    "                        \"Blk Rng\",\n",
    "                      \"Street\"])\n",
    "    for year in years:\n",
    "        yr = str(year)[-2:]\n",
    "        dat_all_months = pd.DataFrame(columns=['Date',\n",
    "                       \"Offense\",\n",
    "                       \"Beat\",\n",
    "                       \"# Offense\",\n",
    "                        \"Blk Rng\",\n",
    "                        \"Street\"])\n",
    "        # loop through months\n",
    "        for mon in months:\n",
    "            BASE_URL = \"http://www.houstontx.gov/police/cs/stats\"+ \\\n",
    "                str(year)+\"/\"+str(mon)+str(yr)+\"/\"+str(mon)+str(yr)+ \\\n",
    "                str(row['Beats'].lower())+\".htm\"\n",
    "            #begin scraping loop\n",
    "            response = requests.get(BASE_URL,headers=HEADERS)\n",
    "            soup = BeautifulSoup(response.content, \"html5lib\")\n",
    "            table = soup.find(\"table\", { \"class\" : \"MsoNormalTable\" })\n",
    "            try:\n",
    "                rows = table.find_all('tr')\n",
    "            except:\n",
    "                continue\n",
    "            #append rows to beat level DF\n",
    "            dat_all = pd.DataFrame(columns=['Date',\n",
    "                       \"Offense\",\n",
    "                       \"Beat\",\n",
    "                       \"# Offense\",\n",
    "                        \"Blk Rng\",\n",
    "                      \"Street\"])\n",
    "            for i in range(len(rows)):\n",
    "                x = str(rows[i].text.replace(\"\\n\",\"\"))\n",
    "                words = x.split(\"      \") \n",
    "\n",
    "                if i > 0:\n",
    "                    dat_stg = pd.DataFrame({'Date': [words[0]],\n",
    "                       \"Offense\":[words[2]],\n",
    "                       \"Beat\":[words[3]],\n",
    "                       \"# Offense\":[words[9]],\n",
    "                        \"Blk Rng\":[words[5]],\n",
    "                      \"Street\":[words[6]]})\n",
    "                    \n",
    "                    dat_all = pd.concat([dat_all,dat_stg])\n",
    "#                     dat_all['Month'] = mon\n",
    "            dat_all_months = pd.concat([dat_all_months,dat_all])\n",
    "#             dat_all_months['Year'] = year\n",
    "            time.sleep(5)\n",
    "        dat_all_years = pd.concat([dat_all_years,dat_all_months])\n",
    "    dat_all_beats = pd.concat([dat_all_beats,dat_all_years])\n",
    "    if idx % 10 == 0:\n",
    "        print(float(idx/len(beats)))"
   ]
  },
  {
   "cell_type": "code",
   "execution_count": 23,
   "metadata": {},
   "outputs": [],
   "source": [
    "# row"
   ]
  },
  {
   "cell_type": "code",
   "execution_count": 35,
   "metadata": {},
   "outputs": [
    {
     "data": {
      "text/plain": [
       "['    6/28/2014', '15', 'Theft', '1A10', '\\xa0', 'WOODRIDGE', '-', '-', '1   ']"
      ]
     },
     "execution_count": 35,
     "metadata": {},
     "output_type": "execute_result"
    }
   ],
   "source": [
    "words"
   ]
  },
  {
   "cell_type": "code",
   "execution_count": null,
   "metadata": {
    "collapsed": true
   },
   "outputs": [],
   "source": []
  },
  {
   "cell_type": "code",
   "execution_count": null,
   "metadata": {
    "collapsed": true
   },
   "outputs": [],
   "source": []
  },
  {
   "cell_type": "code",
   "execution_count": null,
   "metadata": {
    "collapsed": true
   },
   "outputs": [],
   "source": []
  },
  {
   "cell_type": "code",
   "execution_count": null,
   "metadata": {
    "collapsed": true
   },
   "outputs": [],
   "source": []
  },
  {
   "cell_type": "code",
   "execution_count": null,
   "metadata": {
    "collapsed": true
   },
   "outputs": [],
   "source": []
  },
  {
   "cell_type": "markdown",
   "metadata": {},
   "source": [
    "### Testing/Dev"
   ]
  },
  {
   "cell_type": "code",
   "execution_count": 5,
   "metadata": {
    "collapsed": true
   },
   "outputs": [],
   "source": [
    "year = 2017\n",
    "yr = 17\n",
    "mon = \"jan\""
   ]
  },
  {
   "cell_type": "code",
   "execution_count": 7,
   "metadata": {
    "collapsed": true
   },
   "outputs": [],
   "source": [
    "for idx,row in beats.iterrows():\n",
    "    BASE_URL = \"http://www.houstontx.gov/police/cs/beatpages/cs\"+str(row['Beats'].lower())+\".htm\""
   ]
  },
  {
   "cell_type": "code",
   "execution_count": 11,
   "metadata": {},
   "outputs": [],
   "source": [
    "BASE_URL = \"http://www.houstontx.gov/police/cs/stats\"+str(year)+\"/\"+str(mon)+str(yr)+\"/\"+str(mon)+str(yr)+str(row['Beats'].lower())+\".htm\"\n",
    "HEADERS = {'User-Agent':'Mozilla/5.0'}"
   ]
  },
  {
   "cell_type": "code",
   "execution_count": 12,
   "metadata": {},
   "outputs": [
    {
     "data": {
      "text/plain": [
       "'http://www.houstontx.gov/police/cs/stats2017/jan17/jan1724c60.htm'"
      ]
     },
     "execution_count": 12,
     "metadata": {},
     "output_type": "execute_result"
    }
   ],
   "source": [
    "BASE_URL"
   ]
  },
  {
   "cell_type": "code",
   "execution_count": 13,
   "metadata": {},
   "outputs": [],
   "source": [
    "response = requests.get(BASE_URL,headers=HEADERS)\n",
    "soup = BeautifulSoup(response.content, \"html5lib\")"
   ]
  },
  {
   "cell_type": "code",
   "execution_count": 14,
   "metadata": {
    "collapsed": true
   },
   "outputs": [],
   "source": [
    "table = soup.find(\"table\", { \"class\" : \"MsoNormalTable\" })\n",
    "rows = table.find_all('tr')"
   ]
  },
  {
   "cell_type": "code",
   "execution_count": 16,
   "metadata": {},
   "outputs": [],
   "source": [
    "x = str(rows[0].text.replace(\"\\n\",\"\"))"
   ]
  },
  {
   "cell_type": "code",
   "execution_count": 17,
   "metadata": {},
   "outputs": [
    {
     "data": {
      "text/plain": [
       "'    Date      Hour      Offense  Type      Beat      Premise      BlockRange      StreetName      Type      Suffix      #  offenses   '"
      ]
     },
     "execution_count": 17,
     "metadata": {},
     "output_type": "execute_result"
    }
   ],
   "source": [
    "x"
   ]
  },
  {
   "cell_type": "code",
   "execution_count": 18,
   "metadata": {
    "collapsed": true
   },
   "outputs": [],
   "source": [
    "words = x.split(\"      \") "
   ]
  },
  {
   "cell_type": "code",
   "execution_count": 19,
   "metadata": {},
   "outputs": [
    {
     "data": {
      "text/plain": [
       "['    Date',\n",
       " 'Hour',\n",
       " 'Offense  Type',\n",
       " 'Beat',\n",
       " 'Premise',\n",
       " 'BlockRange',\n",
       " 'StreetName',\n",
       " 'Type',\n",
       " 'Suffix',\n",
       " '#  offenses   ']"
      ]
     },
     "execution_count": 19,
     "metadata": {},
     "output_type": "execute_result"
    }
   ],
   "source": [
    "words"
   ]
  },
  {
   "cell_type": "code",
   "execution_count": 60,
   "metadata": {
    "collapsed": true
   },
   "outputs": [],
   "source": [
    "idx_Date = [x for x, s in enumerate(words) if 'Date' in s]\n",
    "idx_Offense = [x for x, s in enumerate(words) if 'Offense  Type' in s]\n",
    "idx_Beat = [x for x, s in enumerate(words) if 'Beat' in s]\n",
    "idx_num_offense = [x for x, s in enumerate(words) if '#  offenses' in s]\n",
    "idx_blk_rng = [x for x, s in enumerate(words) if 'BlockRange' in s]\n",
    "idx_street = [x for x, s in enumerate(words) if 'StreetName' in s]\n",
    "# idx_street_type = [x for x, s in enumerate(words) if 'Type' in s]"
   ]
  },
  {
   "cell_type": "code",
   "execution_count": 61,
   "metadata": {},
   "outputs": [],
   "source": [
    "idx_Date = str(idx_Date).replace(\"[\",\"\")\n",
    "idx_Date = str(idx_Date).replace(\"]\",\"\")\n",
    "\n",
    "idx_Offense = str(idx_Offense).replace(\"[\",\"\")\n",
    "idx_Offense = str(idx_Offense).replace(\"]\",\"\")\n",
    "\n",
    "idx_Beat = str(idx_Beat).replace(\"[\",\"\")\n",
    "idx_Beat = str(idx_Beat).replace(\"]\",\"\")\n",
    "\n",
    "idx_num_offense = str(idx_num_offense).replace(\"[\",\"\")\n",
    "idx_num_offense = str(idx_num_offense).replace(\"]\",\"\")\n",
    "\n",
    "idx_blk_rng = str(idx_blk_rng).replace(\"[\",\"\")\n",
    "idx_blk_rng = str(idx_blk_rng).replace(\"]\",\"\")\n",
    "\n",
    "idx_street = str(idx_street).replace(\"[\",\"\")\n",
    "idx_street = str(idx_street).replace(\"]\",\"\")"
   ]
  },
  {
   "cell_type": "code",
   "execution_count": 62,
   "metadata": {},
   "outputs": [],
   "source": [
    "dat_stg = pd.DataFrame({'Date': [words[int(idx_Date)]],\n",
    "                       \"Offense\":[words[int(idx_Offense)]],\n",
    "                       \"Beat\":[words[int(idx_Beat)]],\n",
    "                       \"# Offense\":[words[int(idx_num_offense)]],\n",
    "                        \"Blk Rng\":[words[int(idx_blk_rng)]],\n",
    "                      \"Street\":[words[int(idx_street)]]})"
   ]
  },
  {
   "cell_type": "code",
   "execution_count": 63,
   "metadata": {},
   "outputs": [
    {
     "data": {
      "text/html": [
       "<div>\n",
       "<table border=\"1\" class=\"dataframe\">\n",
       "  <thead>\n",
       "    <tr style=\"text-align: right;\">\n",
       "      <th></th>\n",
       "      <th># Offense</th>\n",
       "      <th>Beat</th>\n",
       "      <th>Blk Rng</th>\n",
       "      <th>Date</th>\n",
       "      <th>Offense</th>\n",
       "      <th>Street</th>\n",
       "    </tr>\n",
       "  </thead>\n",
       "  <tbody>\n",
       "    <tr>\n",
       "      <th>0</th>\n",
       "      <td>#  offenses</td>\n",
       "      <td>Beat</td>\n",
       "      <td>BlockRange</td>\n",
       "      <td>Date</td>\n",
       "      <td>Offense  Type</td>\n",
       "      <td>StreetName</td>\n",
       "    </tr>\n",
       "  </tbody>\n",
       "</table>\n",
       "</div>"
      ],
      "text/plain": [
       "        # Offense  Beat     Blk Rng      Date        Offense      Street\n",
       "0  #  offenses     Beat  BlockRange      Date  Offense  Type  StreetName"
      ]
     },
     "execution_count": 63,
     "metadata": {},
     "output_type": "execute_result"
    }
   ],
   "source": [
    "dat_stg"
   ]
  },
  {
   "cell_type": "code",
   "execution_count": null,
   "metadata": {
    "collapsed": true
   },
   "outputs": [],
   "source": []
  },
  {
   "cell_type": "code",
   "execution_count": null,
   "metadata": {
    "collapsed": true
   },
   "outputs": [],
   "source": [
    "\n",
    "\n",
    "dat_stg = pd.DataFrame(words)\n",
    "dat_stg = dat_stg.T\n",
    "dat_stg.columns = [\"Date\",\"Hour\",\"Offense\",\n",
    "                   \"Beat\",\"Premise\",\"BlockRange\",\n",
    "                   \"StreetName\",\"Type\",\"Suffix\",\"#  offenses\"]\n",
    "dat_all = pd.concat([dat_all,dat_stg])"
   ]
  },
  {
   "cell_type": "code",
   "execution_count": null,
   "metadata": {
    "collapsed": true
   },
   "outputs": [],
   "source": []
  },
  {
   "cell_type": "code",
   "execution_count": null,
   "metadata": {
    "collapsed": true
   },
   "outputs": [],
   "source": []
  },
  {
   "cell_type": "code",
   "execution_count": null,
   "metadata": {
    "collapsed": true
   },
   "outputs": [],
   "source": []
  },
  {
   "cell_type": "code",
   "execution_count": null,
   "metadata": {
    "collapsed": true
   },
   "outputs": [],
   "source": []
  }
 ],
 "metadata": {
  "anaconda-cloud": {},
  "kernelspec": {
   "display_name": "Python 3",
   "language": "python",
   "name": "python3"
  },
  "language_info": {
   "codemirror_mode": {
    "name": "ipython",
    "version": 3
   },
   "file_extension": ".py",
   "mimetype": "text/x-python",
   "name": "python",
   "nbconvert_exporter": "python",
   "pygments_lexer": "ipython3",
   "version": "3.5.3"
  },
  "toc": {
   "colors": {
    "hover_highlight": "#DAA520",
    "navigate_num": "#000000",
    "navigate_text": "#333333",
    "running_highlight": "#FF0000",
    "selected_highlight": "#FFD700",
    "sidebar_border": "#EEEEEE",
    "wrapper_background": "#FFFFFF"
   },
   "moveMenuLeft": true,
   "nav_menu": {
    "height": "116px",
    "width": "252px"
   },
   "navigate_menu": true,
   "number_sections": true,
   "sideBar": true,
   "threshold": 4,
   "toc_cell": false,
   "toc_section_display": "block",
   "toc_window_display": false,
   "widenNotebook": false
  }
 },
 "nbformat": 4,
 "nbformat_minor": 2
}
